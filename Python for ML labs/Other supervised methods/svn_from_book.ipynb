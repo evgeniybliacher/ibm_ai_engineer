{
 "cells": [
  {
   "cell_type": "code",
   "execution_count": 1,
   "metadata": {},
   "outputs": [],
   "source": [
    "from sklearn.svm import LinearSVC\n",
    "from sklearn import datasets\n",
    "from sklearn.preprocessing import StandardScaler\n",
    "import numpy as np\n",
    "# Load data with only two classes and two features\n",
    "iris = datasets.load_iris()\n",
    "features = iris.data[:100,:2]\n",
    "target = iris.target[:100]\n",
    "# Standardize features\n",
    "scaler = StandardScaler()\n",
    "features_standardized = scaler.fit_transform(features)\n",
    "# Create support vector classifier\n",
    "svc = LinearSVC(C=1.0)\n",
    "# Train model\n",
    "model = svc.fit(features_standardized, target)"
   ]
  },
  {
   "cell_type": "code",
   "execution_count": null,
   "metadata": {},
   "outputs": [],
   "source": [
    "# Загрузить библиотеку\n",
    "from matplotlib import pyplot as pit\n",
    "# Вывести точки данных на график и расцветить, используя их класс \n",
    "color = [\"black\" if с == 0 else \"lightgrey\" for c in target] \n",
    "pit.scatter(features_standardized[:,0],\n",
    "features_standardized[:,1], c=color)\n",
    "# Создать гиперплоскость \n",
    "w = svc.coef_[0]\n",
    "a = -w[0] / w[l]\n",
    "xx = np.linspace(-2.5, 2.5)\n",
    "yy = a * xx - ( svc.intercept_[0]) / w[l]\n",
    "# Начертить гиперплоскость \n",
    "pit.plot(xx, yy)\n",
    "pit.axis(\"off\") \n",
    "pit. show()"
   ]
  }
 ],
 "metadata": {
  "kernelspec": {
   "display_name": "Python 3",
   "language": "python",
   "name": "python3"
  },
  "language_info": {
   "codemirror_mode": {
    "name": "ipython",
    "version": 3
   },
   "file_extension": ".py",
   "mimetype": "text/x-python",
   "name": "python",
   "nbconvert_exporter": "python",
   "pygments_lexer": "ipython3",
   "version": "3.12.5"
  }
 },
 "nbformat": 4,
 "nbformat_minor": 2
}
