{
 "cells": [
  {
   "cell_type": "markdown",
   "metadata": {},
   "source": [
    "## Structure of Neutral Network with Keras"
   ]
  },
  {
   "cell_type": "markdown",
   "metadata": {},
   "source": [
    "![alt text](./images/2_layer_network.jpg \"Title\")"
   ]
  },
  {
   "cell_type": "code",
   "execution_count": 1,
   "metadata": {},
   "outputs": [],
   "source": [
    "import numpy as np\n",
    "import keras\n",
    "from keras.models import Sequential"
   ]
  },
  {
   "cell_type": "markdown",
   "metadata": {},
   "source": [
    "***In case you would like to plot activation function set the parameter to true***"
   ]
  },
  {
   "cell_type": "code",
   "execution_count": 2,
   "metadata": {},
   "outputs": [],
   "source": [
    "is_plot_activation_function = True\n",
    "is_verbose = False"
   ]
  },
  {
   "cell_type": "code",
   "execution_count": 3,
   "metadata": {},
   "outputs": [],
   "source": [
    "def activation_function(x):\n",
    "    \"\"\"\n",
    "    Step activation function.\n",
    "    \"\"\"\n",
    "    return 0 if x < 0.5 else 1"
   ]
  },
  {
   "cell_type": "code",
   "execution_count": null,
   "metadata": {},
   "outputs": [],
   "source": [
    "if is_plot_activation_function:\n",
    "    import matplotlib.pyplot as plt\n",
    "\n",
    "    x = np.linspace(-10, 10, num=20)\n",
    "    y = np.array([activation_function(x) for x in x])\n",
    "    plt.figure(figsize=(8, 4))\n",
    "\n",
    "    plt.plot(x, y)\n",
    "    plt.title(\"Step Activation Function\")\n",
    "    plt.xlabel(\"Input\")\n",
    "    plt.ylabel(\"Output\")\n",
    "    plt.grid()\n",
    "    plt.show()"
   ]
  },
  {
   "cell_type": "code",
   "execution_count": null,
   "metadata": {},
   "outputs": [],
   "source": [
    "def define_model(input, activation_function):\n",
    "    \"\"\"\n",
    "    Define a simple Sequential model with one Dense layer.\n",
    "    \"\"\"\n",
    "    model = Sequential()\n",
    "    model.add(keras.layers.Dense(2, name='hidden_layer', activation=activation_function, input_shape=(2,), use_bias=False))\n",
    "    model.add(keras.layers.Dense(1, name='output_layer', activation=activation_function, use_bias=False))\n",
    "    model.compile(optimizer='adam', loss='binary_crossentropy', metrics=['accuracy'])\n",
    "    if is_verbose:\n",
    "        model.summary()\n",
    "    return model"
   ]
  },
  {
   "cell_type": "code",
   "execution_count": null,
   "metadata": {},
   "outputs": [
    {
     "name": "stdout",
     "output_type": "stream",
     "text": [
      "Test passed!\n"
     ]
    }
   ],
   "source": [
    "hiden_weights = np.array([[0.3, 0.4, 0], [0.3, -0.5, 1]])\n",
    "output_weights = np.array([-1, 1])\n",
    "biases = np.zeros(2)\n",
    "model = define_model(input=2, activation_function=activation_function)\n",
    "model.layers[0].set_weights([hiden_weights, biases])\n",
    "model.layers[1].set_weights([output_weights, np.array([0])])\n",
    "res = model.eva"
   ]
  }
 ],
 "metadata": {
  "kernelspec": {
   "display_name": "Python 3",
   "language": "python",
   "name": "python3"
  },
  "language_info": {
   "codemirror_mode": {
    "name": "ipython",
    "version": 3
   },
   "file_extension": ".py",
   "mimetype": "text/x-python",
   "name": "python",
   "nbconvert_exporter": "python",
   "pygments_lexer": "ipython3",
   "version": "3.12.5"
  }
 },
 "nbformat": 4,
 "nbformat_minor": 2
}
