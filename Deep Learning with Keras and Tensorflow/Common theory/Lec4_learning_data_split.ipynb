{
 "cells": [
  {
   "cell_type": "markdown",
   "metadata": {},
   "source": [
    "### Learning spliting"
   ]
  },
  {
   "cell_type": "markdown",
   "metadata": {},
   "source": [
    "![alt text](images/data_split.png)"
   ]
  },
  {
   "cell_type": "code",
   "execution_count": 31,
   "metadata": {},
   "outputs": [],
   "source": [
    "import os\n",
    "import sys\n",
    "#pip loguru\n",
    "from loguru import logger\n",
    "os.environ['TF_CPP_MIN_LOG_LEVEL'] = '2'  # Suppress TensorFlow logging (1)"
   ]
  },
  {
   "cell_type": "code",
   "execution_count": 32,
   "metadata": {},
   "outputs": [
    {
     "data": {
      "text/plain": [
       "4"
      ]
     },
     "execution_count": 32,
     "metadata": {},
     "output_type": "execute_result"
    }
   ],
   "source": [
    "logger.remove()  # Remove the default logger\n",
    "logger.add(sys.stdout, level=\"INFO\")  # Add a new logger that outputs to stderr"
   ]
  },
  {
   "cell_type": "code",
   "execution_count": 33,
   "metadata": {},
   "outputs": [],
   "source": [
    "import numpy as np\n",
    "import matplotlib.pyplot as plt\n",
    "import tensorflow as tf\n",
    "from tensorflow.keras.datasets import mnist\n",
    "from tensorflow.keras.models import Sequential\n",
    "from tensorflow import keras\n",
    "from tensorflow.keras.layers import Dense, Flatten"
   ]
  },
  {
   "cell_type": "markdown",
   "metadata": {},
   "source": [
    "Create initial data sets:\n",
    " * Load data\n",
    " * Normalization of predictors set (devide to 255 to set them between 0 and 1)\n",
    " * Notmalization of outputs (set it categorical)"
   ]
  },
  {
   "cell_type": "code",
   "execution_count": 34,
   "metadata": {},
   "outputs": [],
   "source": [
    "(x_train, y_train), (x_test, y_test) = mnist.load_data()\n",
    "x_train = x_train / 255\n",
    "x_test = x_test / 255\n",
    "\n",
    "# Convert class vectors to binary class matrices (one-hot encoding)\n",
    "y_train = keras.utils.to_categorical(y_train, 10)\n",
    "y_test = keras.utils.to_categorical(y_test, 10)"
   ]
  },
  {
   "cell_type": "markdown",
   "metadata": {},
   "source": [
    "Split train data to:\n",
    "  * Train set\n",
    "  * Validation set - type of train data that can be used to ensure in learning curve"
   ]
  },
  {
   "cell_type": "code",
   "execution_count": 35,
   "metadata": {},
   "outputs": [],
   "source": [
    "def train_data_split_seq(x_train, y_train, split_ratio=0.8):\n",
    "    '''\n",
    "    # Split the training data into training and validation sets by split ratio (Default 80% to 20%).\n",
    "    # The split ratio determines the proportion of data used for training.\n",
    "    '''\n",
    "    split_index = int(0.8 * len(x_train))\n",
    "    x_train_split = x_train[:split_index]\n",
    "    y_train_split = y_train[:split_index]\n",
    "    x_val_split = x_train[split_index:]\n",
    "    y_val_split = y_train[split_index:]\n",
    "    return x_train_split, x_val_split, y_train_split, y_val_split"
   ]
  },
  {
   "cell_type": "code",
   "execution_count": 36,
   "metadata": {},
   "outputs": [],
   "source": [
    "def model_fn(optimizer=None):\n",
    "  model =  Sequential([\n",
    "    Flatten(input_shape=(28,28,1)),\n",
    "    Dense(128, activation='relu'),\n",
    "    Dense(10, activation='softmax')\n",
    "  ])\n",
    "  if optimizer is None:\n",
    "    model.compile(optimizer='adam', \n",
    "              loss='categorical_crossentropy',\n",
    "              metrics=['accuracy'])\n",
    "  else:\n",
    "    model.compile(optimizer=optimizer, \n",
    "              loss='categorical_crossentropy',\n",
    "              metrics=['accuracy'])\n",
    "  return model"
   ]
  },
  {
   "cell_type": "code",
   "execution_count": 37,
   "metadata": {},
   "outputs": [],
   "source": [
    "def fit_model(model, x_train, y_train, epochs=5, batch_size=32, verbose=0, validation_data=None):\n",
    "  '''Train the model with the given parameters.\n",
    "  # Parameters:\n",
    "  # - model: The model to be trained.\n",
    "  # - x_train: The training data.\n",
    "  # - y_train: The training labels.\n",
    "  # - epochs: The number of epochs to train the model.\n",
    "  # - batch_size: The size of the batches of data.\n",
    "  # - verbose: Verbosity mode (0, 1, or 2).\n",
    "  # - validation_data: Data on which to evaluate the loss and any model metrics at the end of each epoch.\n",
    "  # Returns:\n",
    "  # - history: A History object containing the training history.\n",
    "  # '''\n",
    "  logger.info(\"Training the model...\")\n",
    "  history = model.fit(x_train, y_train, epochs=epochs, batch_size=batch_size, verbose=verbose, validation_data=validation_data)\n",
    "  logger.info(\"Model training completed.\")\n",
    "  logger.debug(f\"Model summary: {history.history}\")\n",
    "  return history"
   ]
  },
  {
   "cell_type": "markdown",
   "metadata": {},
   "source": [
    "Create model:"
   ]
  },
  {
   "cell_type": "code",
   "execution_count": 38,
   "metadata": {},
   "outputs": [
    {
     "name": "stderr",
     "output_type": "stream",
     "text": [
      "C:\\Users\\ebliacher.CORPORATE\\AppData\\Roaming\\Python\\Python312\\site-packages\\keras\\src\\layers\\reshaping\\flatten.py:37: UserWarning: Do not pass an `input_shape`/`input_dim` argument to a layer. When using Sequential models, prefer using an `Input(shape)` object as the first layer in the model instead.\n",
      "  super().__init__(**kwargs)\n"
     ]
    }
   ],
   "source": [
    "model = model_fn()"
   ]
  },
  {
   "cell_type": "markdown",
   "metadata": {},
   "source": [
    "Train model without validation set"
   ]
  },
  {
   "cell_type": "code",
   "execution_count": 39,
   "metadata": {},
   "outputs": [
    {
     "name": "stdout",
     "output_type": "stream",
     "text": [
      "\u001b[32m2025-04-01 09:39:16.892\u001b[0m | \u001b[1mINFO    \u001b[0m | \u001b[36m__main__\u001b[0m:\u001b[36mfit_model\u001b[0m:\u001b[36m14\u001b[0m - \u001b[1mTraining the model...\u001b[0m\n",
      "\u001b[32m2025-04-01 09:39:31.626\u001b[0m | \u001b[1mINFO    \u001b[0m | \u001b[36m__main__\u001b[0m:\u001b[36mfit_model\u001b[0m:\u001b[36m16\u001b[0m - \u001b[1mModel training completed.\u001b[0m\n"
     ]
    }
   ],
   "source": [
    "x_loc_train, x_loc_val, y_loc_train, y_loc_val = train_data_split_seq(x_train, y_train, split_ratio=0.8)\n",
    "history = fit_model(model, x_train, y_train, epochs=5, verbose=0)"
   ]
  },
  {
   "cell_type": "markdown",
   "metadata": {},
   "source": [
    "Train model with sequantial validation set"
   ]
  },
  {
   "cell_type": "code",
   "execution_count": 40,
   "metadata": {},
   "outputs": [
    {
     "name": "stdout",
     "output_type": "stream",
     "text": [
      "\u001b[32m2025-04-01 09:39:31.636\u001b[0m | \u001b[1mINFO    \u001b[0m | \u001b[36m__main__\u001b[0m:\u001b[36mfit_model\u001b[0m:\u001b[36m14\u001b[0m - \u001b[1mTraining the model...\u001b[0m\n",
      "\u001b[32m2025-04-01 09:39:50.761\u001b[0m | \u001b[1mINFO    \u001b[0m | \u001b[36m__main__\u001b[0m:\u001b[36mfit_model\u001b[0m:\u001b[36m16\u001b[0m - \u001b[1mModel training completed.\u001b[0m\n"
     ]
    }
   ],
   "source": [
    "x_seq_train, x_seq_val, y_seq_train, y_seq_val = train_data_split_seq(x_train, y_train, split_ratio=0.8)\n",
    "history_seq = fit_model(model, x_seq_train, y_seq_train, epochs=5, verbose=0, validation_data=(x_seq_val, y_seq_val))"
   ]
  },
  {
   "cell_type": "markdown",
   "metadata": {},
   "source": [
    "***The problem is:***\n",
    "  * We split training set sequantial\n",
    "  * This could be reason for slow learning rate and can couse to learing by linear connected features.\n"
   ]
  },
  {
   "cell_type": "markdown",
   "metadata": {},
   "source": [
    "***Solution:***\n",
    "  Split the train set to validation randomaly."
   ]
  },
  {
   "cell_type": "code",
   "execution_count": 41,
   "metadata": {},
   "outputs": [],
   "source": [
    "from sklearn.model_selection import train_test_split\n",
    "def train_data_split_random(x_train, y_train, split_ratio=0.8):\n",
    "    '''\n",
    "    # Split the training data into training and validation sets by random sampling (Default 80% to 20%).\n",
    "    # The split ratio determines the proportion of data used for training.\n",
    "    '''\n",
    "    x_train_split, x_val_split, y_train_split, y_val_split = train_test_split(x_train, y_train, test_size=(1 - split_ratio), random_state=42)\n",
    "    logger.info(f\"Randomly split data into {len(x_train_split)} training samples and {len(x_val_split)} validation samples.\")\n",
    "    return x_train_split, x_val_split, y_train_split, y_val_split"
   ]
  },
  {
   "cell_type": "code",
   "execution_count": 42,
   "metadata": {},
   "outputs": [
    {
     "name": "stdout",
     "output_type": "stream",
     "text": [
      "\u001b[32m2025-04-01 09:39:50.916\u001b[0m | \u001b[1mINFO    \u001b[0m | \u001b[36m__main__\u001b[0m:\u001b[36mtrain_data_split_random\u001b[0m:\u001b[36m8\u001b[0m - \u001b[1mRandomly split data into 48000 training samples and 12000 validation samples.\u001b[0m\n",
      "\u001b[32m2025-04-01 09:39:50.917\u001b[0m | \u001b[1mINFO    \u001b[0m | \u001b[36m__main__\u001b[0m:\u001b[36mfit_model\u001b[0m:\u001b[36m14\u001b[0m - \u001b[1mTraining the model...\u001b[0m\n",
      "\u001b[32m2025-04-01 09:40:09.518\u001b[0m | \u001b[1mINFO    \u001b[0m | \u001b[36m__main__\u001b[0m:\u001b[36mfit_model\u001b[0m:\u001b[36m16\u001b[0m - \u001b[1mModel training completed.\u001b[0m\n"
     ]
    }
   ],
   "source": [
    "x_rnd_train, x_rnd_val, y_rnd_train, y_rnd_val = train_data_split_random(x_train, y_train, split_ratio=0.8)\n",
    "history_random = fit_model(model, x_rnd_train, y_rnd_train, epochs=5, verbose=0, validation_data=(x_rnd_val, y_rnd_val))"
   ]
  },
  {
   "cell_type": "code",
   "execution_count": 43,
   "metadata": {},
   "outputs": [
    {
     "data": {
      "text/plain": [
       "<matplotlib.legend.Legend at 0x22dbed9c440>"
      ]
     },
     "execution_count": 43,
     "metadata": {},
     "output_type": "execute_result"
    },
    {
     "data": {
      "image/png": "[encoded data removed]",
      "text/plain": [
       "<Figure size 640x480 with 1 Axes>"
      ]
     },
     "metadata": {},
     "output_type": "display_data"
    }
   ],
   "source": [
    "plt.plot(history.history['loss'], label='Without validation set')\n",
    "plt.plot(history_seq.history['loss'], label='Sequantial validation set')\n",
    "plt.plot(history_random.history['loss'], label='Random validation set')\n",
    "plt.title('Loss by validation set')\n",
    "plt.legend()"
   ]
  }
 ],
 "metadata": {
  "kernelspec": {
   "display_name": "Python 3",
   "language": "python",
   "name": "python3"
  },
  "language_info": {
   "codemirror_mode": {
    "name": "ipython",
    "version": 3
   },
   "file_extension": ".py",
   "mimetype": "text/x-python",
   "name": "python",
   "nbconvert_exporter": "python",
   "pygments_lexer": "ipython3",
   "version": "3.12.5"
  }
 },
 "nbformat": 4,
 "nbformat_minor": 2
}
