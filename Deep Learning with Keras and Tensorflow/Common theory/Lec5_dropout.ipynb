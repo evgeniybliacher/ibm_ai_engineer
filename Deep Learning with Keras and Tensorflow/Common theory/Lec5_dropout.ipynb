{
 "cells": [
  {
   "cell_type": "markdown",
   "metadata": {},
   "source": [
    "### Dropout lerning regulation"
   ]
  },
  {
   "cell_type": "markdown",
   "metadata": {},
   "source": [
    "![alt text](images/dropout.png)"
   ]
  },
  {
   "cell_type": "markdown",
   "metadata": {},
   "source": [
    "The Dropout layer randomly sets input units to 0 with a frequency of rate at each step during training time, which helps prevent overfitting. Inputs not set to 0 are scaled up by 1 / (1 - rate) such that the sum over all inputs is unchanged."
   ]
  },
  {
   "cell_type": "code",
   "execution_count": 6,
   "metadata": {},
   "outputs": [],
   "source": [
    "import os\n",
    "import sys\n",
    "#pip loguru\n",
    "from loguru import logger\n",
    "os.environ['TF_CPP_MIN_LOG_LEVEL'] = '2'  # Suppress TensorFlow logging (1)"
   ]
  },
  {
   "cell_type": "code",
   "execution_count": 7,
   "metadata": {},
   "outputs": [
    {
     "data": {
      "text/plain": [
       "2"
      ]
     },
     "execution_count": 7,
     "metadata": {},
     "output_type": "execute_result"
    }
   ],
   "source": [
    "logger.remove()  # Remove the default logger\n",
    "logger.add(sys.stdout, level=\"INFO\")  # Add a new logger that outputs to stderr"
   ]
  },
  {
   "cell_type": "code",
   "execution_count": 8,
   "metadata": {},
   "outputs": [],
   "source": [
    "import numpy as np\n",
    "import matplotlib.pyplot as plt\n",
    "import tensorflow as tf\n",
    "from tensorflow.keras.datasets import mnist\n",
    "from tensorflow.keras.models import Sequential\n",
    "from tensorflow import keras\n",
    "from tensorflow.keras.layers import Dense, Flatten, Dropout"
   ]
  },
  {
   "cell_type": "markdown",
   "metadata": {},
   "source": [
    "Create initial data sets:\n",
    " * Load data\n",
    " * Normalization of predictors set (devide to 255 to set them between 0 and 1)\n",
    " * Notmalization of outputs (set it categorical)"
   ]
  },
  {
   "cell_type": "code",
   "execution_count": 9,
   "metadata": {},
   "outputs": [],
   "source": [
    "(x_train, y_train), (x_test, y_test) = mnist.load_data()\n",
    "x_train = x_train / 255\n",
    "x_test = x_test / 255\n",
    "\n",
    "# Convert class vectors to binary class matrices (one-hot encoding)\n",
    "y_train = keras.utils.to_categorical(y_train, 10)\n",
    "y_test = keras.utils.to_categorical(y_test, 10)"
   ]
  },
  {
   "cell_type": "code",
   "execution_count": 10,
   "metadata": {},
   "outputs": [],
   "source": [
    "def model_fn(optimizer=None, dropout_rate:float=0.0):\n",
    "  model =  Sequential([\n",
    "    Flatten(input_shape=(28,28,1)),\n",
    "    Dense(300, activation='relu'),\n",
    "    Dense(10, activation='softmax')\n",
    "  ]) if dropout_rate == 0 else Sequential([\n",
    "    Flatten(input_shape=(28,28,1)),\n",
    "    Dense(300, activation='relu'),\n",
    "    Dropout(dropout_rate),\n",
    "    Dense(10, activation='softmax')\n",
    "  ])\n",
    "  if optimizer is None:\n",
    "    model.compile(optimizer='adam', \n",
    "              loss='categorical_crossentropy',\n",
    "              metrics=['accuracy'])\n",
    "  else:\n",
    "    model.compile(optimizer=optimizer, \n",
    "              loss='categorical_crossentropy',\n",
    "              metrics=['accuracy'])\n",
    "  return model"
   ]
  },
  {
   "cell_type": "code",
   "execution_count": 11,
   "metadata": {},
   "outputs": [],
   "source": [
    "def fit_model(model, x_train, y_train, epochs=5, batch_size=32, verbose=0, validation_data=None):\n",
    "  '''Train the model with the given parameters.\n",
    "  # Parameters:\n",
    "  # - model: The model to be trained.\n",
    "  # - x_train: The training data.\n",
    "  # - y_train: The training labels.\n",
    "  # - epochs: The number of epochs to train the model.\n",
    "  # - batch_size: The size of the batches of data.\n",
    "  # - verbose: Verbosity mode (0, 1, or 2).\n",
    "  # - validation_data: Data on which to evaluate the loss and any model metrics at the end of each epoch.\n",
    "  # Returns:\n",
    "  # - history: A History object containing the training history.\n",
    "  # '''\n",
    "  logger.info(\"Training the model...\")\n",
    "  history = model.fit(x_train, y_train, epochs=epochs, batch_size=batch_size, verbose=verbose, validation_data=validation_data)\n",
    "  logger.info(\"Model training completed.\")\n",
    "  logger.debug(f\"Model summary: {history.history}\")\n",
    "  return history"
   ]
  },
  {
   "cell_type": "code",
   "execution_count": 12,
   "metadata": {},
   "outputs": [],
   "source": [
    "from sklearn.model_selection import train_test_split\n",
    "def train_data_split_random(x_train, y_train, split_ratio=0.8):\n",
    "    '''\n",
    "    # Split the training data into training and validation sets by random sampling (Default 80% to 20%).\n",
    "    # The split ratio determines the proportion of data used for training.\n",
    "    '''\n",
    "    x_train_split, x_val_split, y_train_split, y_val_split = train_test_split(x_train, y_train, test_size=(1 - split_ratio), random_state=42)\n",
    "    logger.info(f\"Randomly split data into {len(x_train_split)} training samples and {len(x_val_split)} validation samples.\")\n",
    "    return x_train_split, x_val_split, y_train_split, y_val_split"
   ]
  },
  {
   "cell_type": "markdown",
   "metadata": {},
   "source": [
    "Define train and validation set"
   ]
  },
  {
   "cell_type": "code",
   "execution_count": 13,
   "metadata": {},
   "outputs": [
    {
     "name": "stdout",
     "output_type": "stream",
     "text": [
      "\u001b[32m2025-04-01 10:07:31.055\u001b[0m | \u001b[1mINFO    \u001b[0m | \u001b[36m__main__\u001b[0m:\u001b[36mtrain_data_split_random\u001b[0m:\u001b[36m8\u001b[0m - \u001b[1mRandomly split data into 48000 training samples and 12000 validation samples.\u001b[0m\n"
     ]
    }
   ],
   "source": [
    "x_train_set, x_val_set, y_train_set, y_val_set = train_data_split_random(x_train, y_train, 0.8)"
   ]
  },
  {
   "cell_type": "markdown",
   "metadata": {},
   "source": [
    "Define and train model without dropout"
   ]
  },
  {
   "cell_type": "code",
   "execution_count": 14,
   "metadata": {},
   "outputs": [
    {
     "name": "stdout",
     "output_type": "stream",
     "text": [
      "\u001b[32m2025-04-01 10:07:31.146\u001b[0m | \u001b[1mINFO    \u001b[0m | \u001b[36m__main__\u001b[0m:\u001b[36mfit_model\u001b[0m:\u001b[36m14\u001b[0m - \u001b[1mTraining the model...\u001b[0m\n"
     ]
    },
    {
     "name": "stderr",
     "output_type": "stream",
     "text": [
      "C:\\Users\\ebliacher.CORPORATE\\AppData\\Roaming\\Python\\Python312\\site-packages\\keras\\src\\layers\\reshaping\\flatten.py:37: UserWarning: Do not pass an `input_shape`/`input_dim` argument to a layer. When using Sequential models, prefer using an `Input(shape)` object as the first layer in the model instead.\n",
      "  super().__init__(**kwargs)\n"
     ]
    },
    {
     "name": "stdout",
     "output_type": "stream",
     "text": [
      "\u001b[32m2025-04-01 10:07:50.015\u001b[0m | \u001b[1mINFO    \u001b[0m | \u001b[36m__main__\u001b[0m:\u001b[36mfit_model\u001b[0m:\u001b[36m16\u001b[0m - \u001b[1mModel training completed.\u001b[0m\n"
     ]
    }
   ],
   "source": [
    "\n",
    "model = model_fn()\n",
    "history = fit_model(model, x_train_set, y_train_set, epochs=5, verbose=0, validation_data=(x_val_set, y_val_set))"
   ]
  },
  {
   "cell_type": "markdown",
   "metadata": {},
   "source": [
    "Define and train model with dropout"
   ]
  },
  {
   "cell_type": "code",
   "execution_count": 15,
   "metadata": {},
   "outputs": [
    {
     "name": "stdout",
     "output_type": "stream",
     "text": [
      "\u001b[32m2025-04-01 10:07:50.040\u001b[0m | \u001b[1mINFO    \u001b[0m | \u001b[36m__main__\u001b[0m:\u001b[36mfit_model\u001b[0m:\u001b[36m14\u001b[0m - \u001b[1mTraining the model...\u001b[0m\n",
      "\u001b[32m2025-04-01 10:08:10.655\u001b[0m | \u001b[1mINFO    \u001b[0m | \u001b[36m__main__\u001b[0m:\u001b[36mfit_model\u001b[0m:\u001b[36m16\u001b[0m - \u001b[1mModel training completed.\u001b[0m\n"
     ]
    }
   ],
   "source": [
    "model_dropout = model_fn(dropout_rate=0.8)\n",
    "history_dropout = fit_model(model_dropout, x_train_set, y_train_set, epochs=5, verbose=0, validation_data=(x_val_set, y_val_set))"
   ]
  },
  {
   "cell_type": "code",
   "execution_count": 16,
   "metadata": {},
   "outputs": [
    {
     "data": {
      "text/plain": [
       "<matplotlib.legend.Legend at 0x20f62d96cc0>"
      ]
     },
     "execution_count": 16,
     "metadata": {},
     "output_type": "execute_result"
    },
    {
     "data": {
      "image/png": "[encoded data removed]",
      "text/plain": [
       "<Figure size 640x480 with 1 Axes>"
      ]
     },
     "metadata": {},
     "output_type": "display_data"
    }
   ],
   "source": [
    "plt.plot(history.history['accuracy'], label='Accuracy without dropout')\n",
    "plt.plot(history_dropout.history['accuracy'], label='Accuracy with dropout')\n",
    "plt.title('Accuracy')\n",
    "plt.legend()"
   ]
  }
 ],
 "metadata": {
  "kernelspec": {
   "display_name": "Python 3",
   "language": "python",
   "name": "python3"
  },
  "language_info": {
   "codemirror_mode": {
    "name": "ipython",
    "version": 3
   },
   "file_extension": ".py",
   "mimetype": "text/x-python",
   "name": "python",
   "nbconvert_exporter": "python",
   "pygments_lexer": "ipython3",
   "version": "3.12.5"
  }
 },
 "nbformat": 4,
 "nbformat_minor": 2
}
