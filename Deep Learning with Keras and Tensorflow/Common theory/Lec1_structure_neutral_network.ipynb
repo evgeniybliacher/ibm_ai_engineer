{
 "cells": [
  {
   "cell_type": "markdown",
   "metadata": {},
   "source": [
    "## Structure of Neutral Network"
   ]
  },
  {
   "cell_type": "markdown",
   "metadata": {},
   "source": [
    "![alt text](./images/activation-functions-1.webp)"
   ]
  },
  {
   "cell_type": "code",
   "execution_count": 1,
   "metadata": {},
   "outputs": [],
   "source": [
    "import numpy as np"
   ]
  },
  {
   "cell_type": "markdown",
   "metadata": {},
   "source": [
    "***In case you would like to plot activation function set the parameter to true***"
   ]
  },
  {
   "cell_type": "code",
   "execution_count": 24,
   "metadata": {},
   "outputs": [],
   "source": [
    "is_plot_activation_function = True\n",
    "is_verbose = False"
   ]
  },
  {
   "cell_type": "code",
   "execution_count": null,
   "metadata": {},
   "outputs": [],
   "source": [
    "def activation_function(x):\n",
    "    \"\"\"\n",
    "    Step activation function.\n",
    "    \"\"\"\n",
    "    return 0 if x < 0.5 else 1"
   ]
  },
  {
   "cell_type": "code",
   "execution_count": null,
   "metadata": {},
   "outputs": [],
   "source": [
    "if is_plot_activation_function:\n",
    "    import matplotlib.pyplot as plt\n",
    "\n",
    "    x = np.linspace(-10, 10, num=20)\n",
    "    y = np.array([activation_function(x) for x in x])\n",
    "    plt.figure(figsize=(8, 4))\n",
    "\n",
    "    plt.plot(x, y)\n",
    "    plt.title(\"Step Activation Function\")\n",
    "    plt.xlabel(\"Input\")\n",
    "    plt.ylabel(\"Output\")\n",
    "    plt.grid()\n",
    "    plt.show()"
   ]
  },
  {
   "cell_type": "code",
   "execution_count": 22,
   "metadata": {},
   "outputs": [],
   "source": [
    "def forward_propagation_one_layer(x, weights, bias=0):\n",
    "    \"\"\"\n",
    "    Forward propagation through a single neuron.\n",
    "    \"\"\"\n",
    "    z = np.dot(x, weights) + bias\n",
    "    a = activation_function(z)\n",
    "    if is_verbose:\n",
    "        print(f\"Input: {x}, Weights: {weights}, Bias: {bias}, Weighted Sum: {z}, Activation Output: {a}\")\n",
    "    return a"
   ]
  },
  {
   "cell_type": "code",
   "execution_count": 21,
   "metadata": {},
   "outputs": [],
   "source": [
    "def forward_propagation(x, hidden_layer_weights, output_layer_weights, biases):\n",
    "    \"\"\"\n",
    "    Forward propagation through a neural network with one hidden layer.\n",
    "    \"\"\"\n",
    "    hidden_layer_output = np.array([forward_propagation_one_layer(x, loc_weights, biases[0]) for loc_weights in hidden_layer_weights])\n",
    "    if is_verbose:\n",
    "        print(f\"Hidden Layer Output: {hidden_layer_output}\")\n",
    "    output_layer_output = forward_propagation_one_layer(hidden_layer_output, output_layer_weights, biases[1])\n",
    "    if is_verbose:\n",
    "        print(f\"Output Layer Output: {output_layer_output}\")\n",
    "    return output_layer_output"
   ]
  },
  {
   "cell_type": "code",
   "execution_count": 26,
   "metadata": {},
   "outputs": [
    {
     "name": "stdout",
     "output_type": "stream",
     "text": [
      "Test passed!\n"
     ]
    }
   ],
   "source": [
    "hiden_weights = np.array([[0.3, 0.4, 0], [0.3, -0.5, 1]])\n",
    "output_weights = np.array([-1, 1])\n",
    "biases = np.zeros(2)\n",
    "res = forward_propagation(np.array([1, 0, 1]), hiden_weights, output_weights, biases)\n",
    "if res == 1:\n",
    "    print(\"Test passed!\")\n",
    "else:\n",
    "    print(\"Test failed!\")"
   ]
  }
 ],
 "metadata": {
  "kernelspec": {
   "display_name": "Python 3",
   "language": "python",
   "name": "python3"
  },
  "language_info": {
   "codemirror_mode": {
    "name": "ipython",
    "version": 3
   },
   "file_extension": ".py",
   "mimetype": "text/x-python",
   "name": "python",
   "nbconvert_exporter": "python",
   "pygments_lexer": "ipython3",
   "version": "3.12.5"
  }
 },
 "nbformat": 4,
 "nbformat_minor": 2
}
